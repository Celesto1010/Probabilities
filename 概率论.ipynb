{
 "cells": [
  {
   "cell_type": "markdown",
   "id": "12b2559f",
   "metadata": {},
   "source": [
    "# 本文档旨在记录一些概率论上的有趣论述"
   ]
  },
  {
   "cell_type": "markdown",
   "id": "de6d3810",
   "metadata": {},
   "source": [
    "## 男孩女孩问题"
   ]
  },
  {
   "cell_type": "markdown",
   "id": "d5412158",
   "metadata": {},
   "source": [
    "### 问题一：一个家庭有两个孩子，已知其中一个是男孩，那么另一个孩子是男孩的概率是多少？"
   ]
  },
  {
   "cell_type": "markdown",
   "id": "9a4bc6f9",
   "metadata": {},
   "source": [
    "**解一**：枚举。  \n",
    "两个孩子的性别共有四种可能性：男男、男女、女男、女女，这四种可能性概率相同。由于已知其中一个是男孩，则排除掉女女的可能性。在剩下的三种可能性中，只有男男满足两个孩子都是男孩。故而其概率应为： $p=\\frac{1}{3}$.  \n",
    "  \n",
    "**解二**：条件概率计算。  \n",
    "记事件A为两名孩子中有一名男孩，事件B为两名孩子都是男孩。则：  \n",
    "$$p(其中一个是男孩，另一个也是男孩)=p(B|A)=\\frac{p(AB)}{p(A)}$$  \n",
    "A的对立事件为两名孩子全部都是女孩，故$p(A)=1-\\frac{1}{4}=\\frac{3}{4}$。  \n",
    "AB的对立事件为两个孩子不全是男孩，即都是女孩，或一男一女。故$p(AB)=1-\\frac{1}{4}-\\frac{1}{2}=\\frac{1}{4}$  \n",
    "从而结果为$$\\frac{p(AB)}{p(A)}=\\frac{\\frac{1}{4}}{\\frac{3}{4}}=\\frac{1}{3}$$"
   ]
  },
  {
   "cell_type": "code",
   "execution_count": 20,
   "id": "6490f242",
   "metadata": {},
   "outputs": [
    {
     "name": "stdout",
     "output_type": "stream",
     "text": [
      "已知其中一个是男孩，那么另一个孩子是男孩的概率是 0.3340101604106855\n"
     ]
    }
   ],
   "source": [
    "# 代码验证\n",
    "# 随机产生1000000组0、1数对，代表家庭的两个孩子。其中0代表女孩，1代表男孩。\n",
    "import random\n",
    "data = list()\n",
    "for _ in range(1000000):\n",
    "    first = random.randint(0, 1)\n",
    "    second = random.randint(0, 1)\n",
    "    data.append([first, second])\n",
    "# 由于已知其中一个是男孩，故筛选掉没有男孩的数对\n",
    "data_with_boys = [one_data for one_data in data if 1 in one_data]\n",
    "# 统计这些数据中，两个孩子都是男孩的概率\n",
    "two_boys = [one_data for one_data in data_with_boys if 0 not in one_data]\n",
    "two_boys_probability = len(two_boys) / len(data_with_boys)\n",
    "# 打印结果\n",
    "print('已知其中一个是男孩，那么另一个孩子是男孩的概率是', two_boys_probability)"
   ]
  },
  {
   "cell_type": "markdown",
   "id": "bd4abbaf",
   "metadata": {},
   "source": [
    "### 问题二：一个家庭有两个孩子，已知其中年龄较大的孩子是男孩，那么另一个孩子是男孩的概率是多少？"
   ]
  },
  {
   "cell_type": "markdown",
   "id": "81008c8a",
   "metadata": {},
   "source": [
    "**解**：二者为独立事件，另一个孩子是男孩的概率为 $p=\\frac{1}{2}$。该问题等价于“已知生下第一胎是男孩，那么再生一胎也是男孩的概率是多少？”。"
   ]
  },
  {
   "cell_type": "markdown",
   "id": "6837510b",
   "metadata": {},
   "source": [
    "### 问题三：一个家庭有两个孩子，已知其中一个是男孩，且他出生于星期二。那么另一个孩子是男孩的概率是多少？"
   ]
  },
  {
   "cell_type": "markdown",
   "id": "835d3246",
   "metadata": {},
   "source": [
    "**解一**：枚举。  \n",
    "每星期共有7天、性别共有2中，则星期 - 性别的组合共有14种可能性。对于两个孩子来说，则有$14\\times14=196$种可能性。  \n",
    "以1-7代表星期，b、g代表男女。则枚举所有“星期二男孩”的可能性：    \n",
    "**(2b, 1b)**、**(2b, 2b)**、**(2b, 3b)**、**(2b, 4b)**、**(2b, 5b)**、**(2b, 6b)**、**(2b, 7b)**  \n",
    "(2b, 1g)、(2b, 2g)、(2b, 3g)、(2b, 4g)、(2b, 5g)、(2b, 6g)、(2b, 7g)  \n",
    "(1g, 2b)、(2g, 2b)、(3g, 2b)、(4g, 2b)、(5g, 2b)、(6g, 2b)、(7g, 2b)  \n",
    "**(1b, 2b)**、~(2b, 2b)~、**(3b, 2b)**、**(4b, 2b)**、**(5b, 2b)**、**(6b, 2b)**、**(7b, 2b)**  \n",
    "共有27种可能性，其中另一个孩子也是男孩的情况共有13种（已标粗）。  \n",
    "  \n",
    "因此，另一个孩子也是男孩的概率是$\\frac{13}{27}$."
   ]
  },
  {
   "cell_type": "markdown",
   "id": "48f2a387",
   "metadata": {},
   "source": [
    "**解二**：条件概率计算。  \n",
    "记事件A为两名孩子中有一名出生于星期二的男孩，事件B为两名孩子都是男孩。则：  \n",
    "$$p(其中一个是出生于星期二的男孩男孩，另一个也是男孩)=p(B|A)=\\frac{p(AB)}{p(A)}$$  \n",
    "A的对立事件为两名孩子都不是星期二男孩：$p(A)=1-(\\frac{13}{14})^2=\\frac{27}{196}$  \n",
    "AB的对立事件为：两个孩子不都是男孩（一男一女或都是女孩），或两个孩子都是男孩，但是都不出生于星期二：\n",
    "$$p(AB)=1-\\frac{1}{2}-\\frac{1}{4}-(\\frac{1}{2}\\times\\frac{6}{7})^2=\\frac{13}{196}$$  \n",
    "从而结果为$$\\frac{p(AB)}{p(A)}=\\frac{\\frac{13}{196}}{\\frac{27}{196}}=\\frac{13}{27}$$"
   ]
  },
  {
   "cell_type": "code",
   "execution_count": 10,
   "id": "576945a7",
   "metadata": {},
   "outputs": [
    {
     "name": "stdout",
     "output_type": "stream",
     "text": [
      "已知其中一个是星期二男孩，那么另一个孩子是男孩的概率是 0.48263858545253285\n"
     ]
    }
   ],
   "source": [
    "# 代码验证\n",
    "# 随机产生1000000组0、1数对，代表家庭的两个孩子。其中0代表女孩，1代表男孩。\n",
    "# 同时随机产生相同组数对，数对每个数范围为[1, 7]，代表星期数。\n",
    "# 这些数对与0、1数对两两组合，即得到带有星期、性别的数据信息。\n",
    "import random\n",
    "data = list()\n",
    "for _ in range(1000000):\n",
    "    first = random.randint(0, 1)\n",
    "    second = random.randint(0, 1)\n",
    "    weekday_1 = random.randint(1, 7)\n",
    "    weekday_2 = random.randint(1, 7)\n",
    "    data.append([(first, weekday_1), (second, weekday_2)])\n",
    "    \n",
    "# 由于已知其中一个是星期二男孩，故筛选掉没有星期二男孩的数对\n",
    "data_with_thusday_boys = [one_data for one_data in data if (1, 2) in one_data]\n",
    "# 统计这些数据中，两个孩子都是男孩的概率\n",
    "two_boys = [one_data for one_data in data_with_thusday_boys if 0 not in one_data[0] and 0 not in one_data[1]]\n",
    "two_boys_probability = len(two_boys) / len(data_with_thusday_boys)\n",
    "# 打印结果\n",
    "print('已知其中一个是星期二男孩，那么另一个孩子是男孩的概率是', two_boys_probability)"
   ]
  },
  {
   "cell_type": "markdown",
   "id": "8da0c68e",
   "metadata": {},
   "source": [
    "### 一些思考"
   ]
  },
  {
   "cell_type": "markdown",
   "id": "287a7d03",
   "metadata": {},
   "source": [
    "两个孩子——  \n",
    "- 若任何信息都不了解，则两个孩子都是男孩的概率为$\\frac{1}{4}$.  \n",
    "- 若已知其中有一个是男孩，则两个孩子都是男孩的概率上升至$\\frac{1}{3}$.  \n",
    "- 若已知其中有一个是男孩，且他出生于星期二，则两个孩子都是男孩的概率上升至$\\frac{13}{27}$.  \n",
    "  \n",
    "随着对这名男孩的信息进一步增多，例如他出生于星期二的上午、他脖子上有颗痣……，那么两个孩子都是男孩的几率会继续上升。可以推论，该信息事件发生的平均概率越低，两个孩子都是男孩的几率上升的越多。信息越多，该几率会越逼近$\\frac{1}{2}$，然而永远不会被提升至$\\frac{1}{2}$。  \n",
    "  \n",
    "可以如此理解：对于一名男孩的信息越多，我们就有越多的依据判断他是哪一名孩子——这些特征对于这名孩子是确定的，而这些特征发生在另一个孩子身上的概率只是均值。**问题二**可以当作是这类问题的极限情况，即信息足够多，已经可以区分这两名孩子了。这样一来，另一名孩子也是男孩的概率就是$\\frac{1}{2}$。  \n",
    "  \n",
    "同时，即使关于一名孩子的信息不足够多，但是如果我们在了解至少有一名男孩之外，还了解到了足以直接区分两名孩子的信息，如：这名男孩是年龄较大的那个（等同于**问题二**），或另一名孩子不出生在星期二，这样一来，另一名孩子的性别就成了独立事件，其概率就是$\\frac{1}{2}$."
   ]
  },
  {
   "cell_type": "markdown",
   "id": "53ca21ed",
   "metadata": {},
   "source": [
    "-----------------------------------------------------------"
   ]
  },
  {
   "cell_type": "markdown",
   "id": "e50ead5b",
   "metadata": {},
   "source": [
    "## 三门问题及其衍生"
   ]
  },
  {
   "cell_type": "code",
   "execution_count": null,
   "id": "eaa7be86",
   "metadata": {},
   "outputs": [],
   "source": []
  }
 ],
 "metadata": {
  "kernelspec": {
   "display_name": "Python 3",
   "language": "python",
   "name": "python3"
  },
  "language_info": {
   "codemirror_mode": {
    "name": "ipython",
    "version": 3
   },
   "file_extension": ".py",
   "mimetype": "text/x-python",
   "name": "python",
   "nbconvert_exporter": "python",
   "pygments_lexer": "ipython3",
   "version": "3.8.8"
  }
 },
 "nbformat": 4,
 "nbformat_minor": 5
}
